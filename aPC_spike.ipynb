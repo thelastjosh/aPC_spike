{
 "metadata": {
  "name": "",
  "signature": "sha256:cc56ae78ac10df1d5fbfeb53cbafc468fe06cdb5bd1164110dd6c866dff0b332"
 },
 "nbformat": 3,
 "nbformat_minor": 0,
 "worksheets": [
  {
   "cells": [
    {
     "cell_type": "markdown",
     "metadata": {},
     "source": [
      "# Resources\n",
      "\n",
      "Note that this iPython notebook file can be viewed in HTML format at http://nbviewer.ipython.org/github/thelastjosh/aPC_spike/blob/master/aPC_spike.ipynb\n",
      "\n",
      "Review article: [Dimensionality reduction for large-scale neural recordings](files/CunninghamYuNN2014.pdf)\n",
      "\n",
      "Model for analysis: [A Topological Paradigm for Hippocampal Spatial Map Formation Using Persistent Homology ](files/dabaghian12.pdf)\n",
      "\n",
      "Review of persistent homology: [Topology and data](http://www.ams.org/journals/bull/2009-46-02/S0273-0979-09-01249-X/S0273-0979-09-01249-X.pdf)\n",
      "\n",
      "<img src=\"files/untitled3.png\">\n"
     ]
    },
    {
     "cell_type": "markdown",
     "metadata": {},
     "source": [
      "# Setup\n",
      "\n",
      "The data exists in three Matlab files, `spikeIDtiming.mat`, `trialdata.mat`, and `20150205_datafile002_194_mn_metadata.mat`.\n",
      "\n",
      "`metadata.rt` is the sampling rate (Hz). All timings--both for trial structure and for spike events--are in sample number, so you'll need this quantity to relate to seconds.\n",
      "\n",
      "`metadata.numsamples` is the total number of samples in the dataset (per channel, of course). this number divided by rt gives you total time of the experiment\n",
      "\n",
      "`trialDataStruct.UOIs` lists the ID number of each one of the units (which is what we call neurons). There are 68 in this dataset.\n",
      "\n",
      "`trialDataStruct.odorEpochs` are the timings (in sample number) of the onset (column 0) and offset (column 1) of each one of the trials (odor pulses), of which there were 280 (one trial onset/offset for each row)\n",
      "\n",
      "`trialDataStruct.valveID` is the identity of the odorant on each one of the 280 trials, in the order in which they were presented (so there is a straight forward correspondence between valveID and odorEpochs). Note that 6 is a blank trial (no odorant).\n",
      "\n",
      "`spikeIDtiming.mat` contains the unit ID (column 0) and time of occurrence (column 1) for all of the spikes in the dataset, of which there a bit more than half a million."
     ]
    },
    {
     "cell_type": "code",
     "collapsed": false,
     "input": [
      "# scipy.io is not needed since it does not actually implement the HDF5 / 7.3 interface \n",
      "import numpy as np\n",
      "import h5py # for Matlab 7.3+ files\n",
      "import matplotlib.pyplot as plt\n",
      "%matplotlib inline \n",
      "\n",
      "file = h5py.File('spikeIDtiming.mat', 'r') # 'r' indicates read-only\n",
      "data = file['spikeIDtiming']\n",
      "zipped = zip(data[0],data[1])"
     ],
     "language": "python",
     "metadata": {},
     "outputs": [],
     "prompt_number": 4
    },
    {
     "cell_type": "code",
     "collapsed": false,
     "input": [
      "data.value"
     ],
     "language": "python",
     "metadata": {},
     "outputs": [
      {
       "metadata": {},
       "output_type": "pyout",
       "prompt_number": 17,
       "text": [
        "array([[       46,       216,       218, ...,       219,        62,\n",
        "              210],\n",
        "       [       38,       292,       405, ..., 349478973, 349480295,\n",
        "        349480737]], dtype=uint32)"
       ]
      }
     ],
     "prompt_number": 17
    },
    {
     "cell_type": "markdown",
     "metadata": {},
     "source": [
      "The data is an array of two lists, understood as 622,291 tuples of the form (ID, time_of_spike). To separate the data into conditions, we need to use `trialDataStruct.odorEpochs` or `trialDataStruct.valveID`. When applying the mapper algorithm, we will probably want to separate the data into 8 sets."
     ]
    },
    {
     "cell_type": "markdown",
     "metadata": {},
     "source": [
      "**Total spikes**"
     ]
    },
    {
     "cell_type": "code",
     "collapsed": false,
     "input": [
      "import collections\n",
      "counter=collections.Counter(data[0])\n",
      "\n",
      "# a histogram of total number of spikes\n",
      "plt.bar(counter.keys(),counter.values())\n",
      "plt.title('Total spikes per neuron ID') "
     ],
     "language": "python",
     "metadata": {},
     "outputs": [
      {
       "metadata": {},
       "output_type": "pyout",
       "prompt_number": 23,
       "text": [
        "<matplotlib.text.Text at 0x10f39b2d0>"
       ]
      },
      {
       "metadata": {},
       "output_type": "display_data",
       "png": "[encoded data removed]",
       "text": [
        "<matplotlib.figure.Figure at 0x10d269150>"
       ]
      }
     ],
     "prompt_number": 23
    },
    {
     "cell_type": "markdown",
     "metadata": {
      "slideshow": {
       "slide_type": "-"
      }
     },
     "source": [
      "**Duration**"
     ]
    },
    {
     "cell_type": "code",
     "collapsed": false,
     "input": [
      "metadata = h5py.File('20150205_datafile002_194_mn_metadata.mat', 'r')\n",
      "samplingHz = metadata['metadata/rt'][0][0]\n",
      "numSamples = metadata['metadata/numSamples'][0][0]\n",
      "duration = numSamples / samplingHz\n",
      "\n",
      "print \"Duration of the experiment: \" + str(duration) + \" seconds = \" + \\\n",
      "    str(duration / 60) + \" minutes\""
     ],
     "language": "python",
     "metadata": {},
     "outputs": [
      {
       "output_type": "stream",
       "stream": "stdout",
       "text": [
        "Duration of the experiment: 11649.3595667 seconds = 194.155992778 minutes\n"
       ]
      }
     ],
     "prompt_number": 22
    },
    {
     "cell_type": "markdown",
     "metadata": {},
     "source": [
      "# Analysis pt.1\n",
      "\n",
      "In order to apply TDA, we need to convert the spike train data into some sort of point cloud representation. (Alternately, see: [Applying Persistent Homology to Time Varying Systems](http://www.elizabethmunch.com/math/research/ElizabethMunch-TimeVaryingPersistence.pdf)\n",
      "\n",
      "(2/21) Attempted to setup the Dionysus persistent homology package, but received a consistent error `Fatal Python error: PyEval_SaveThread: NULL tstate`. I believe this has to do with the Python bindings.\n",
      "\n",
      "(2/22) Attempted to use the Holes package (a port of javaPlex, after which I will default to using Plex in Matlab), but there's no documentation for it.\n",
      "\n",
      "(2/23) Skipping to Python Mapper."
     ]
    },
    {
     "cell_type": "markdown",
     "metadata": {},
     "source": [
      "# Analysis pt.2\n"
     ]
    },
    {
     "cell_type": "code",
     "collapsed": false,
     "input": [],
     "language": "python",
     "metadata": {},
     "outputs": [
      {
       "ename": "ImportError",
       "evalue": "No module named mapper",
       "output_type": "pyerr",
       "traceback": [
        "\u001b[0;31m---------------------------------------------------------------------------\u001b[0m\n\u001b[0;31mImportError\u001b[0m                               Traceback (most recent call last)",
        "\u001b[0;32m<ipython-input-21-bcdcca1080bb>\u001b[0m in \u001b[0;36m<module>\u001b[0;34m()\u001b[0m\n\u001b[0;32m----> 1\u001b[0;31m \u001b[0;32mimport\u001b[0m \u001b[0mmapper\u001b[0m\u001b[0;34m\u001b[0m\u001b[0m\n\u001b[0m",
        "\u001b[0;31mImportError\u001b[0m: No module named mapper"
       ]
      }
     ],
     "prompt_number": 21
    },
    {
     "cell_type": "code",
     "collapsed": false,
     "input": [],
     "language": "python",
     "metadata": {},
     "outputs": []
    }
   ],
   "metadata": {}
  }
 ]
}