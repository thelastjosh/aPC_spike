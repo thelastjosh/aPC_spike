{
 "cells": [
  {
   "cell_type": "markdown",
   "metadata": {},
   "source": [
    "# Resources\n",
    "\n",
    "Note that this iPython notebook file can be viewed in HTML format at http://nbviewer.ipython.org/github/thelastjosh/aPC_spike/blob/master/aPC_spike.ipynb\n",
    "\n",
    "1. Data analyis for neural recordings: [Dimensionality reduction for large-scale neural recordings](files/CunninghamYuNN2014.pdf)\n",
    "2. Odor representations + odor experiment setup: [Odor representations in olfactory cortex](files/miura2012.pdf)\n",
    "3. Topological analysis of neural recordings: [A Topological Paradigm for Hippocampal Spatial Map Formation Using Persistent Homology ](files/dabaghian12.pdf)\n",
    "4. Another analysis example: [Topological analysis of population activity in visual cortex](http://jov.arvojournals.org/article.aspx?articleid=2193262)\n",
    "5. Introduction to persistent homology: [Topology and data](http://www.ams.org/journals/bull/2009-46-02/S0273-0979-09-01249-X/S0273-0979-09-01249-X.pdf)\n",
    "\n",
    "<img src=\"files/untitled3.png\">"
   ]
  },
  {
   "cell_type": "markdown",
   "metadata": {},
   "source": [
    "# Setup\n",
    "\n",
    "The data exists in three Matlab files, `spikeIDtiming.mat`, `trialdata.mat`, and `20150205_datafile002_194_mn_metadata.mat`.\n",
    "\n",
    "`metadata.rt` is the sampling rate (Hz). All timings--both for trial structure and for spike events--are in sample number, so you'll need this quantity to relate to seconds.\n",
    "\n",
    "`metadata.numsamples` is the total number of samples in the dataset (per channel, of course). this number divided by rt gives you total time of the experiment\n",
    "\n",
    "`trialDataStruct.UOIs` lists the ID number of each one of the units (which is what we call neurons). There are 68 in this dataset.\n",
    "\n",
    "`trialDataStruct.odorEpochs` are the timings (in sample number) of the onset (column 0) and offset (column 1) of each one of the trials (odor pulses), of which there were 280 (one trial onset/offset for each row)\n",
    "\n",
    "`trialDataStruct.valveID` is the identity of the odorant on each one of the 280 trials, in the order in which they were presented (so there is a straight forward correspondence between valveID and odorEpochs). Note that 6 is a blank trial (no odorant).\n",
    "\n",
    "`spikeIDtiming.mat` contains the unit ID (column 0) and time of occurrence (column 1) for all of the spikes in the dataset, of which there a bit more than half a million."
   ]
  },
  {
   "cell_type": "code",
   "execution_count": 21,
   "metadata": {
    "collapsed": false
   },
   "outputs": [
    {
     "name": "stdout",
     "output_type": "stream",
     "text": [
      "10\n",
      "Does 2 = 3? False\n",
      "Does 2 < 3? True\n",
      "5\n"
     ]
    },
    {
     "ename": "TypeError",
     "evalue": "unsupported operand type(s) for +: 'int' and 'str'",
     "output_type": "error",
     "traceback": [
      "\u001b[0;31m---------------------------------------------------------------------------\u001b[0m",
      "\u001b[0;31mTypeError\u001b[0m                                 Traceback (most recent call last)",
      "\u001b[0;32m<ipython-input-21-b6a1b10f8b0c>\u001b[0m in \u001b[0;36m<module>\u001b[0;34m()\u001b[0m\n\u001b[1;32m      6\u001b[0m \u001b[0;32mprint\u001b[0m \u001b[0;34m\"Does 2 < 3? \"\u001b[0m \u001b[0;34m+\u001b[0m \u001b[0mstr\u001b[0m\u001b[0;34m(\u001b[0m\u001b[0;36m2\u001b[0m \u001b[0;34m<\u001b[0m \u001b[0;36m3\u001b[0m\u001b[0;34m)\u001b[0m\u001b[0;34m\u001b[0m\u001b[0m\n\u001b[1;32m      7\u001b[0m \u001b[0;32mprint\u001b[0m \u001b[0;36m2\u001b[0m \u001b[0;34m+\u001b[0m \u001b[0;36m3\u001b[0m\u001b[0;34m\u001b[0m\u001b[0m\n\u001b[0;32m----> 8\u001b[0;31m \u001b[0;32mprint\u001b[0m \u001b[0;36m2\u001b[0m \u001b[0;34m+\u001b[0m \u001b[0;34m\"blah blah blah\"\u001b[0m\u001b[0;34m\u001b[0m\u001b[0m\n\u001b[0m",
      "\u001b[0;31mTypeError\u001b[0m: unsupported operand type(s) for +: 'int' and 'str'"
     ]
    }
   ],
   "source": [
    "n = 1\n",
    "while n < 10:\n",
    "    n = n + 1\n",
    "print n\n",
    "print \"Does 2 = 3? \" + str(2 == 3)\n",
    "print \"Does 2 < 3? \" + str(2 < 3)\n",
    "print 2 + 3\n",
    "print 2 + \"blah blah blah\""
   ]
  },
  {
   "cell_type": "code",
   "execution_count": 1,
   "metadata": {
    "collapsed": false
   },
   "outputs": [],
   "source": [
    "# scipy.io is not needed since it does not actually implement the HDF5 / 7.3 interface \n",
    "import numpy as np\n",
    "import h5py # for Matlab 7.3+ files\n",
    "import matplotlib.pyplot as plt\n",
    "%matplotlib inline \n",
    "\n",
    "file = h5py.File('spikeIDtiming.mat', 'r') # 'r' indicates read-only\n",
    "data = file['spikeIDtiming']"
   ]
  },
  {
   "cell_type": "code",
   "execution_count": 2,
   "metadata": {
    "collapsed": false
   },
   "outputs": [
    {
     "data": {
      "text/plain": [
       "array([[      123,        77,        77, ...,       297,       326,\n",
       "              307],\n",
       "       [      165,       345,       621, ..., 136798961, 136799165,\n",
       "        136799506]], dtype=uint32)"
      ]
     },
     "execution_count": 2,
     "metadata": {},
     "output_type": "execute_result"
    }
   ],
   "source": [
    "data.value"
   ]
  },
  {
   "cell_type": "markdown",
   "metadata": {},
   "source": [
    "The data is an array of two lists, understood as 622,291 tuples of the form (ID, time_of_spike). To separate the data into conditions, we need to use `trialDataStruct.odorEpochs` or `trialDataStruct.valveID`. When applying the mapper algorithm, we will probably want to separate the data into 8 sets."
   ]
  },
  {
   "cell_type": "markdown",
   "metadata": {},
   "source": [
    "## Total spikes"
   ]
  },
  {
   "cell_type": "code",
   "execution_count": 3,
   "metadata": {
    "collapsed": false
   },
   "outputs": [
    {
     "data": {
      "text/plain": [
       "<matplotlib.text.Text at 0x105f1b450>"
      ]
     },
     "execution_count": 3,
     "metadata": {},
     "output_type": "execute_result"
    },
    {
     "data": {
      "image/png": "[encoded data removed]",
      "text/plain": [
       "<matplotlib.figure.Figure at 0x1046b16d0>"
      ]
     },
     "metadata": {},
     "output_type": "display_data"
    }
   ],
   "source": [
    "import collections\n",
    "counter=collections.Counter(data[0])\n",
    "\n",
    "# a histogram of total number of spikes\n",
    "plt.bar(counter.keys(),counter.values())\n",
    "plt.title('Total spikes per neuron ID') "
   ]
  },
  {
   "cell_type": "markdown",
   "metadata": {},
   "source": [
    "## Duration"
   ]
  },
  {
   "cell_type": "code",
   "execution_count": 4,
   "metadata": {
    "collapsed": false
   },
   "outputs": [
    {
     "name": "stdout",
     "output_type": "stream",
     "text": [
      "Duration of the experiment: 4560.0 seconds = 76.0 minutes\n"
     ]
    }
   ],
   "source": [
    "metadata = h5py.File('20150314_datafile001_76_mn_metadata.mat', 'r')\n",
    "samplingHz = metadata['metadata/rt'][0][0]\n",
    "numSamples = metadata['metadata/numSamples'][0][0]\n",
    "duration = numSamples / samplingHz\n",
    "\n",
    "print \"Duration of the experiment: \" + str(duration) + \" seconds = \" + \\\n",
    "    str(duration / 60) + \" minutes\""
   ]
  },
  {
   "cell_type": "markdown",
   "metadata": {},
   "source": [
    "## Conditions"
   ]
  },
  {
   "cell_type": "code",
   "execution_count": 5,
   "metadata": {
    "collapsed": false,
    "scrolled": true
   },
   "outputs": [
    {
     "name": "stdout",
     "output_type": "stream",
     "text": [
      "Trial 0 (Limonene) begins at time 2796731.0 and ends at time 2916762.0\n",
      "Trial 1 (Octanal) begins at time 3704597.0 and ends at time 3824627.0\n",
      "Trial 2 (Acetophenone) begins at time 5612789.0 and ends at time 5732879.0\n",
      "Trial 3 (BLANK) begins at time 6848856.0 and ends at time 6969067.0\n",
      "Trial 4 (Benzaldehyde) begins at time 7780842.0 and ends at time 7900872.0\n",
      "Trial 5 (Hexenol) begins at time 8849508.0 and ends at time 8969539.0\n",
      "Trial 6 (Pinene) begins at time 9770694.0 and ends at time 9890725.0\n",
      "Trial 7 (Isoamyl Acetate) begins at time 10904011.0 and ends at time 11024042.0\n",
      "Trial 8 (Limonene) begins at time 11972078.0 and ends at time 12092108.0\n",
      "Trial 9 (Octanal) begins at time 12893743.0 and ends at time 13013774.0\n",
      "Trial 10 (Hexenol) begins at time 13812529.0 and ends at time 13932560.0\n",
      "...\n"
     ]
    }
   ],
   "source": [
    "file = h5py.File('trialData.mat', 'r')\n",
    "UOIs = file['trialDataStruct/UOIs'][0]\n",
    "odorEpochs = file['trialDataStruct/odorEpochs']\n",
    "valveID = file['trialDataStruct/valveID']\n",
    "numTrials = file['trialDataStruct/numTrials'][0][0]\n",
    "conditions = [\"Isoamyl Acetate\", \"Limonene\", \"Pinene\", \"Benzaldehyde\", \"Acetophenone\", \"Octanal\", \"BLANK\", \"Hexenol\"]\n",
    "\n",
    "n = 0\n",
    "for id in valveID:\n",
    "    print \"Trial \" + str(n) + \" (\" + conditions[int(id)] + \") begins at time \" + str(odorEpochs[0][n]) + \" and ends at time \" + str(odorEpochs[1][n])\n",
    "    n += 1\n",
    "    if (n > 10): \n",
    "        print \"...\" \n",
    "        break"
   ]
  },
  {
   "cell_type": "markdown",
   "metadata": {},
   "source": [
    "We can use the above trial / condition parameters to calculate a firing Z-score over all trials, see picture at top."
   ]
  },
  {
   "cell_type": "markdown",
   "metadata": {},
   "source": [
    "# Analysis (naive)\n",
    "\n",
    "In short, let's throw a bunch of out-of-the-box algorithms at the data.\n",
    "\n",
    "First, to apply topological data analysis (TDA), we need to convert the spike train data into some sort of point cloud representation. Below is a simple demonstration of the persistent homology of generated point cloud data, in this case a sphere."
   ]
  },
  {
   "cell_type": "code",
   "execution_count": 6,
   "metadata": {
    "collapsed": false
   },
   "outputs": [],
   "source": [
    "# (2/21) Attempted to setup the Dionysus persistent homology package, but received a consistent error `Fatal Python error: PyEval_SaveThread: NULL tstate`. I believe this has to do with the Python bindings.\n",
    "# (2/22) Attempted to use the Holes package (a port of javaPlex, after which I will default to using Plex in Matlab), but there's no documentation for it.\n",
    "# (2/23) Skipping to Python Mapper, attempting on GUI before importing it as a Python module."
   ]
  },
  {
   "cell_type": "markdown",
   "metadata": {},
   "source": [
    "My first thought would be to represent the data in a 68-dimension vector space $V$ where each axis represents the \"time\" for that neuron; for every axis $i$ and at every time point $t$, we draw a point at $(0, ..., 0,t,0,..., 0)$ (where $t$ is in the $i$-th position) if neuron $i$ fires at time $t$. If two neurons $k_i$ and $k_j$ fire at the same time, we draw a point at $(0,...,t,...,t,...,0)$ where $t$ is in the $i$-th and $j$-th positions. But given the shape of the data (long and stretched out) it might be quite difficult to get any kind of interesting topological structure out of this data representation.\n",
    "\n",
    "What do we normally do? There's no behavior condition here (as there is in Resource #2) so we can't apply a (supervised) learning algorithm. PCA involves representing the variance of each neuron across the 8 odorants and slicing off neurons \"that contribute less\" (I think? please correct me if this isn't what you guys do). Below we run naive PCA on the data."
   ]
  },
  {
   "cell_type": "code",
   "execution_count": 6,
   "metadata": {
    "collapsed": false
   },
   "outputs": [],
   "source": [
    "# compare to computed eigenvalues at \"20150205-datafile002_eigenvalues.fig\"\n",
    "from scipy.io import loadmat\n",
    "x = loadmat('20150205-datafile002_eigenvalues.fig')\n",
    "\n",
    "# compare to projection onto first 3 principal components at \"20150205-datafile002_projection.fig\""
   ]
  },
  {
   "cell_type": "markdown",
   "metadata": {},
   "source": [
    "In this case we note that PCA does not look at the co-firing information. If there's any topological information in the data I'd guess it would be embedded in the co-firing patterns.\n",
    "\n",
    "Below is a variant of PCA tailored to spike train analysis called [GPFA](http://users.ece.cmu.edu/~byronyu/software.shtml)."
   ]
  },
  {
   "cell_type": "code",
   "execution_count": 1,
   "metadata": {
    "collapsed": false
   },
   "outputs": [],
   "source": [
    "# GPFA code / Matlab pictures here ... but don't have a copy of Matlab."
   ]
  },
  {
   "cell_type": "markdown",
   "metadata": {},
   "source": [
    "Lastly we run SVM."
   ]
  },
  {
   "cell_type": "code",
   "execution_count": null,
   "metadata": {
    "collapsed": false
   },
   "outputs": [],
   "source": [
    "# SVM code here\n",
    "# import scipy.svm"
   ]
  },
  {
   "cell_type": "markdown",
   "metadata": {},
   "source": [
    "# Analysis continued\n",
    "\n",
    "As an exercise, let's try to reproduce the experiment and analysis in Dabaghian et al.\n",
    "\n",
    "1. Simulate spike data.\n",
    "    1. Construct the rate model by representing place cell firing as an inhomogeneous Poisson process with a time-independent rate function $\\lambda (\\vec{r})$ in terms of the animal's position, $\\vec r$. This gives us stochastic firing around the place field centers. For a place cell $c_i$ modeled under a simple 2d Gaussian, \\begin{equation}\\lambda_i (\\vec r) = f_i \\exp \\left (-\\frac{(r -r^c_i)^2}{2s_i^2} \\right),\\end{equation} where $r_i^c$ is the center of the $i$th place field and $s_i^2$ is the variance.\n",
    "    2. As the rat moves around the room, its place cells fire following $\\lambda_i(\\vec r)$. We convert this into a string $s_i$ of firing times.\n",
    "2. Construct simplicial complex from spike data.\n",
    "    1. It's worth remembering: the **physical room** is the \"underlying space\" $X$ (which is being covered / modelled by the place field simplicial complex $\\mathcal{PF}$.\n",
    "    2. We want to infer the \"place field simplicial complex\" $\\mathcal{PF}$ (which may be constructed, in the obvious way, if we knew the shapes and locations of the place fields) by the \"temporal spike train simplicial complex\" $\\mathcal{T}$.\n",
    "    3. Idea: take co-firing of place cells at same time $c_i, c_j, c_k, ...$ as evidence of overlap of place fields $PF_i, PF_j, PF_k$.\n",
    "    4. Take spike train data $s_1, ..., s_N$ associated to $N$ cells, where each $s_i$ is a list of the times that the cell $c_i$ fires. \n",
    "    5. Fix $\\epsilon >0$ and $m \\in \\mathbb{N}$. Define $\\mathcal{T}$ as the simplicial complex with simplices given by the rule \\begin{equation}[i_1, i_2, ..., i_k] \\in \\mathcal{T} \\Leftrightarrow \\exists t \\in [0,T] \\text{ such that } \\min_{j \\in \\{1, ..., k\\}} \\left | s_{i_j} \\cap [t-\\epsilon, t+\\epsilon] \\right | \\geq m. \\end{equation} So this a sort of threshold requirement: $m$ is the mininum number of times that *all* the place cells $c_{i_1}, ..., c_{i_k}$ fire in the window $[t-\\epsilon,t+\\epsilon]$.\n",
    "3. Construct filtration based on simplicial complex.\n",
    "    1. Construct a filtration on the complex $\\mathcal{T}$ by a function $\\textbf{f} : \\mathcal{T} \\to \\mathbb{R}^+$: \\begin{equation}\\textbf{f}([i_1, ..., i_k]) = \\min \\left \\{ t \\in [0,T] : \\min_{j \\in \\{1, ..., k\\}} \\left | s_{i_j} \\cap [t-\\epsilon, t+\\epsilon] \\right | \\geq m \\right \\}\\end{equation} This filtration is a sequence of nested simplicial complexes built across time. To verify that this is in fact a filtration parameterized by the real variable $t \\in \\mathbb{R}^+$, note that any simplex $\\sigma$ containing $i$ satisfies $\\textbf{f}(\\sigma) \\geq \\textbf{f}(i)$.\n",
    "    2. So we can define a sequence of simplicial complexes $\\mathcal{T}(t_1) \\subset ... \\subset \\mathcal{T}(t_n) = \\mathcal{T}$ given by \\begin{equation}T(t) = \\{ \\sigma \\in \\mathcal{T}: \\textbf{f}(\\sigma) \\leq t\\}.\\end{equation} \n",
    "    3. We can apply persistent homology directly on the filtration.\n",
    "4. Compute.\n",
    "    1. Use PLEX in Matlab.\n",
    "\n",
    "Second exercise: reproduce the experiment and analysis in Singh et al.\n",
    "\n",
    "1. Generate simulated data.\n",
    "    1. Take a population of $N$ cells with homogeneous tuning curves (???) and preferred orientations (18 total) equalled spaced around the circle. So an orientation cell $c_i$ will fire when presented with an image that has that particular orientation. Give 100 presentations per orientation. It fires stochastically, according to some tuning curve $\\lambda(\\theta, \\phi)$ so that mean spikes per bin satisfy a Poisson distribution.\n",
    "    2. The data is stored as a data matrix $X$, with rows representing single presentations of orientations (so 1800 rows) and columns the cells $c_1, ..., c_N$.\n",
    "2. Preprocess macaque visual cortex data.\n",
    "    1. \n",
    "2. Construct simplicial complex from spike data.\n",
    "    1. Recall definition of a Rips complex: fix parameter $\\epsilon$, draw a path beween all points for which $d(x,y) < \\epsilon$, a 2-simplex between (x,y,z) if all pairwise distances are less than $\\epsilon$, and so on.\n",
    "    1. Take a finite set of points $X$ (the \n",
    "3. Construct filtration based on simplicial complex.\n",
    "4. Compute.\n",
    "\n",
    "The key fact (and difference) is that Dabaghian et. al. are using persistent homology not only as a pure data analytics tool but as part of a *biological hypothesis* about how the place cells work. That is, they conjecture that the neurons downstream of the place cells interpret the co-firing of place cells as *natively topological* information---information about connectedness, adjacency, and containment---rather than exact geometric information about distances. They suggest that the actual neural mechanism for interpreting these co-firings could be something like persistent homology.\n",
    "\n",
    "Also, in their experiment they are generating the simplicial complex directly, not forming a cover over points in a metric space.\n",
    "\n",
    "In our case we have no idea what the \"true topology\" of the odorant would be; we have only a minimal representation of that odorant in terms of the neuron firings.\n",
    "\n",
    "A normal approach to time series: decompose into Fourier basis, so each spike train gets decomposed as a linear combination of Fourier elements.\n",
    "\n",
    "Another approach would be to use the \"vineyard\" approach discussed in [Applying Persistent Homology to Time Varying Systems](http://www.elizabethmunch.com/math/research/ElizabethMunch-TimeVaryingPersistence.pdf). In her thesis, Munch describes methods for combining many \"slices\" of the persistent homology of a point cloud as it varies (continuously)."
   ]
  },
  {
   "cell_type": "code",
   "execution_count": null,
   "metadata": {
    "collapsed": false
   },
   "outputs": [],
   "source": []
  }
 ],
 "metadata": {
  "kernelspec": {
   "display_name": "Python 2",
   "language": "python",
   "name": "python2"
  },
  "language_info": {
   "codemirror_mode": {
    "name": "ipython",
    "version": 2
   },
   "file_extension": ".py",
   "mimetype": "text/x-python",
   "name": "python",
   "nbconvert_exporter": "python",
   "pygments_lexer": "ipython2",
   "version": "2.7.10"
  }
 },
 "nbformat": 4,
 "nbformat_minor": 0
}
